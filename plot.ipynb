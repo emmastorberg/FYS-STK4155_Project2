{
 "cells": [
  {
   "cell_type": "code",
   "execution_count": null,
   "metadata": {},
   "outputs": [],
   "source": [
    "import matplotlib.pyplot as plt\n",
    "from matplotlib import cm\n",
    "import numpy as np\n",
    "from matplotlib.ticker import MultipleLocator\n",
    "import seaborn as sns\n",
    "from sklearn.model_selection import train_test_split\n",
    "\n",
    "\n",
    "from plotroutines import aesthetic_2D\n",
    "from GradientDescent import Plain, Stochastic\n",
    "from utils import analytic_grad_OLS, analytic_grad_Ridge, cost_OLS, cost_Ridge\n",
    "import utils as utils\n",
    "aesthetic_2D()"
   ]
  },
  {
   "cell_type": "code",
   "execution_count": null,
   "metadata": {},
   "outputs": [],
   "source": [
    "degree = 2\n",
    "n = 100\n",
    "\n",
    "x = np.linspace(0, 10, n)\n",
    "\n",
    "X = np.empty((n, degree+1))\n",
    "for d in range(degree + 1):\n",
    "    X[:,d] = x**d\n",
    "\n",
    "y = 3 * x**2 + 2 * x + 5\n",
    "\n",
    "# not sure if we even want to split??\n",
    "X_train, X_test, y_train, y_test = train_test_split(X, y)\n",
    "\n",
    "# initialize beta (must be in a list)\n",
    "beta = [np.random.randn(degree+1)]\n",
    "\n",
    "lmbda= 0.1\n",
    "\n",
    "beta_analytic_OLS = np.linalg.inv(X_train.T @ X_train) @ X_train.T @ y_train\n",
    "beta_analytic_Ridge = np.linalg.inv(X_train.T @ X_train + lmbda * np.eye(len(X[0]))) @ X_train.T @ y_train\n"
   ]
  },
  {
   "cell_type": "code",
   "execution_count": null,
   "metadata": {},
   "outputs": [],
   "source": [
    "optimizer = Plain(lr=learning_rate, max_iter=1000, momentum=0.3, tuner=\"adam\")\n",
    "optimizer.set_gradient(analytic_grad_OLS)\n",
    "beta_prediction = optimizer.gradient_descent(X_train, beta, y_train)\n",
    "print(np.array(beta_prediction).shape, X_test.shape)\n",
    "predict = X_test @ np.array(beta_prediction).T\n",
    "np.shape(X_test)"
   ]
  },
  {
   "cell_type": "markdown",
   "metadata": {},
   "source": [
    "# Plot 1: "
   ]
  },
  {
   "cell_type": "code",
   "execution_count": null,
   "metadata": {},
   "outputs": [],
   "source": [
    "learning_rates = [0.1, 0.01, 0.001, 0.0001, 0.00001]\n",
    "ax = plt.figure()\n",
    "for learning_rate in learning_rates:\n",
    "    optimizer = Plain(lr=learning_rate, max_iter=1000, momentum=0.3, tuner=\"adam\")\n",
    "    optimizer.set_gradient(analytic_grad_OLS)\n",
    "    beta_prediction = optimizer.gradient_descent(X_train, beta, y_train)\n",
    "    print(np.array(beta_prediction).shape, X_test.shape)\n",
    "    predict = X_train @ np.array(beta_prediction).T\n",
    "    print(predict, y_train)\n",
    "    mse = utils.mse(predict, y_train)\n",
    "    plt.scatter(learning_rate, mse, alpha=0.6, linewidth=0.5, color='blue')"
   ]
  }
 ],
 "metadata": {
  "kernelspec": {
   "display_name": ".venv",
   "language": "python",
   "name": "python3"
  },
  "language_info": {
   "codemirror_mode": {
    "name": "ipython",
    "version": 3
   },
   "file_extension": ".py",
   "mimetype": "text/x-python",
   "name": "python",
   "nbconvert_exporter": "python",
   "pygments_lexer": "ipython3",
   "version": "3.12.2"
  }
 },
 "nbformat": 4,
 "nbformat_minor": 2
}

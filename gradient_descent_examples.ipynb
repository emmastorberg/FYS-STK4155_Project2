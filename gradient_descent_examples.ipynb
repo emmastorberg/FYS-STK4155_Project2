{
 "cells": [
  {
   "cell_type": "code",
   "execution_count": 1,
   "metadata": {},
   "outputs": [],
   "source": [
    "from sklearn.model_selection import train_test_split\n",
    "from sklearn.preprocessing import StandardScaler\n",
    "import autograd.numpy as np\n",
    "from autograd import grad\n",
    "\n",
    "from GradientDescent import Plain, Stochastic\n",
    "import utils"
   ]
  },
  {
   "cell_type": "code",
   "execution_count": 2,
   "metadata": {},
   "outputs": [],
   "source": [
    "n = 100\n",
    "degree = 2\n",
    "x = np.linspace(0, 1, n)\n",
    "\n",
    "X = np.empty((n, degree+1))\n",
    "X[:,0] = 1\n",
    "X[:,1] = x\n",
    "X[:,2] = x**2\n",
    "\n",
    "y =  3 + 7*x + 5*x**2\n",
    "\n",
    "X_train, X_test, y_train, y_test = train_test_split(X, y)\n",
    "\n",
    "scaler = StandardScaler()\n",
    "X_train[:,1:] = scaler.fit_transform(X_train[:,1:])\n",
    "X_test[:,1:] = scaler.transform(X_test[:,1:])\n",
    "\n",
    "analytic_beta = [utils.analytic_beta_OLS(X_train, y_train)]\n",
    "\n",
    "beta = np.ones(degree+1) * 0.1"
   ]
  },
  {
   "cell_type": "code",
   "execution_count": 3,
   "metadata": {},
   "outputs": [],
   "source": [
    "lmbda= 0.1\n",
    "\n",
    "beta_analytic_OLS = np.linalg.inv(X_train.T @ X_train) @ X_train.T @ y_train\n",
    "beta_analytic_Ridge = np.linalg.inv(X_train.T @ X_train + lmbda * np.eye(len(X[0]))) @ X_train.T @ y_train"
   ]
  },
  {
   "cell_type": "code",
   "execution_count": 4,
   "metadata": {},
   "outputs": [
    {
     "name": "stderr",
     "output_type": "stream",
     "text": [
      "100%|██████████| 2000/2000 [00:00<00:00, 59530.83it/s]"
     ]
    },
    {
     "name": "stdout",
     "output_type": "stream",
     "text": [
      "analytic solution: [8.43362514 2.08809184 1.54233106]\n",
      "computed solution: [8.33984735 2.21963746 1.67387669]\n",
      "cost: [np.float64(0.08027031301116151)]\n"
     ]
    },
    {
     "name": "stderr",
     "output_type": "stream",
     "text": [
      "\n"
     ]
    }
   ],
   "source": [
    "# plain with analytic gradient OLS\n",
    "\n",
    "optimizer = Plain(lr=0.1, max_iter=2000, momentum=0.5, tuner=\"adam\")\n",
    "optimizer.set_gradient(utils.analytic_grad_OLS)\n",
    "beta_prediction = optimizer.gradient_descent(X_train, [np.copy(beta)], y_train)\n",
    "\n",
    "print(f\"analytic solution: {beta_analytic_OLS}\")\n",
    "print(f\"computed solution: {beta_prediction[0]}\")\n",
    "print(f\"cost: {utils.cost_OLS(X_test, beta_prediction, y_test)}\")"
   ]
  },
  {
   "cell_type": "code",
   "execution_count": 5,
   "metadata": {},
   "outputs": [
    {
     "name": "stderr",
     "output_type": "stream",
     "text": [
      "100%|██████████| 1000/1000 [00:00<00:00, 59073.87it/s]"
     ]
    },
    {
     "name": "stdout",
     "output_type": "stream",
     "text": [
      "analytic solution: [8.42239528 2.07608464 1.55187976]\n",
      "computed solution: [8.4279277  2.08121372 1.54797936]\n"
     ]
    },
    {
     "name": "stderr",
     "output_type": "stream",
     "text": [
      "\n"
     ]
    }
   ],
   "source": [
    "# plain with analytic gradient Ridge\n",
    "\n",
    "optimizer = Plain(lr=0.01, max_iter=1000, momentum=0.3, tuner=\"adam\")\n",
    "optimizer.set_gradient(utils.analytic_grad_Ridge(lmbda=lmbda))\n",
    "beta_prediction = optimizer.gradient_descent(X_train, [np.copy(beta)], y_train)\n",
    "\n",
    "print(f\"analytic solution: {beta_analytic_Ridge}\")\n",
    "print(f\"computed solution: {beta_prediction[0]}\")"
   ]
  },
  {
   "cell_type": "code",
   "execution_count": 6,
   "metadata": {},
   "outputs": [],
   "source": [
    "# plain with autograd OLS\n",
    "\n",
    "# optimizer = Plain(lr=0.01, max_iter=1000, momentum=0.3, tuner=\"adam\")\n",
    "# gradient = grad(utils.cost_OLS, 1)\n",
    "# print(utils.cost_OLS(X_train, [np.copy(beta)], y_train))\n",
    "# print(gradient(X_train, [np.copy(beta)], y_train))\n",
    "# optimizer.set_gradient(gradient)\n",
    "# beta_prediction = optimizer.gradient_descent(X_train, [np.copy(beta)], y_train)\n",
    "\n",
    "# print(f\"analytic solution: {beta_analytic_OLS}\")\n",
    "# print(f\"computed solution: {beta_prediction[0]}\")\n",
    "# print(f\"cost: {utils.cost_OLS(X_test, beta_prediction, y_test)}\")"
   ]
  },
  {
   "cell_type": "code",
   "execution_count": 7,
   "metadata": {},
   "outputs": [],
   "source": [
    "# plain with autograd Ridge\n",
    "\n",
    "# optimizer = Plain(lr=0.01, max_iter=1000, momentum=0.3, tuner=\"adam\")\n",
    "# cost_ridge = utils.cost_Ridge(lmbda=lmbda)\n",
    "# gradient = grad(cost_ridge, 1)\n",
    "# optimizer.set_gradient(gradient)\n",
    "# beta_prediction = optimizer.gradient_descent(X_train, [np.copy(beta)], y_train)\n",
    "\n",
    "# print(f\"analytic solution: {beta_analytic_Ridge}\")\n",
    "# print(f\"computed solution: {beta_prediction[0]}\")"
   ]
  },
  {
   "cell_type": "code",
   "execution_count": 8,
   "metadata": {},
   "outputs": [
    {
     "name": "stderr",
     "output_type": "stream",
     "text": [
      "100%|██████████| 10/10 [00:00<00:00, 1878.92it/s]"
     ]
    },
    {
     "name": "stdout",
     "output_type": "stream",
     "text": [
      "analytic solution: [8.43362514 2.08809184 1.54233106]\n",
      "computed solution: [8.62417146 2.12569535 1.53616263]\n",
      "cost: [np.float64(0.03409185317845236)]\n"
     ]
    },
    {
     "name": "stderr",
     "output_type": "stream",
     "text": [
      "\n"
     ]
    }
   ],
   "source": [
    "# stochastic with analytic gradient OLS\n",
    "\n",
    "optimizer = Stochastic(lr=0.1, lr_schedule=\"linear\", momentum=0.5, tuner=\"adam\", M=4, n_epochs=10)\n",
    "optimizer.set_gradient(utils.analytic_grad_OLS)\n",
    "beta_prediction = optimizer.gradient_descent(X_train, [np.copy(beta)], y_train)\n",
    "\n",
    "print(f\"analytic solution: {beta_analytic_OLS}\")\n",
    "print(f\"computed solution: {beta_prediction[0]}\")\n",
    "print(f\"cost: {utils.cost_OLS(X_test, beta_prediction, y_test)}\")"
   ]
  },
  {
   "cell_type": "code",
   "execution_count": 9,
   "metadata": {},
   "outputs": [
    {
     "ename": "NameError",
     "evalue": "name 'analytic_grad_Ridge' is not defined",
     "output_type": "error",
     "traceback": [
      "\u001b[0;31m---------------------------------------------------------------------------\u001b[0m",
      "\u001b[0;31mNameError\u001b[0m                                 Traceback (most recent call last)",
      "Cell \u001b[0;32mIn[9], line 4\u001b[0m\n\u001b[1;32m      1\u001b[0m \u001b[38;5;66;03m# stochastic with analytic gradient Ridge\u001b[39;00m\n\u001b[1;32m      3\u001b[0m optimizer \u001b[38;5;241m=\u001b[39m Stochastic(lr\u001b[38;5;241m=\u001b[39m\u001b[38;5;241m0.1\u001b[39m, lr_schedule\u001b[38;5;241m=\u001b[39m\u001b[38;5;124m\"\u001b[39m\u001b[38;5;124mlinear\u001b[39m\u001b[38;5;124m\"\u001b[39m, momentum\u001b[38;5;241m=\u001b[39m\u001b[38;5;241m0.3\u001b[39m, tuner\u001b[38;5;241m=\u001b[39m\u001b[38;5;124m\"\u001b[39m\u001b[38;5;124madam\u001b[39m\u001b[38;5;124m\"\u001b[39m, M\u001b[38;5;241m=\u001b[39m\u001b[38;5;241m10\u001b[39m, n_epochs\u001b[38;5;241m=\u001b[39m\u001b[38;5;241m100\u001b[39m)\n\u001b[0;32m----> 4\u001b[0m optimizer\u001b[38;5;241m.\u001b[39mset_gradient(\u001b[43manalytic_grad_Ridge\u001b[49m(lmbda\u001b[38;5;241m=\u001b[39mlmbda))\n\u001b[1;32m      5\u001b[0m beta_prediction \u001b[38;5;241m=\u001b[39m optimizer\u001b[38;5;241m.\u001b[39mgradient_descent(X_train, beta, y_train)\n\u001b[1;32m      7\u001b[0m \u001b[38;5;28mprint\u001b[39m(\u001b[38;5;124mf\u001b[39m\u001b[38;5;124m\"\u001b[39m\u001b[38;5;124manalytic solution: \u001b[39m\u001b[38;5;132;01m{\u001b[39;00mbeta_analytic_Ridge\u001b[38;5;132;01m}\u001b[39;00m\u001b[38;5;124m\"\u001b[39m)\n",
      "\u001b[0;31mNameError\u001b[0m: name 'analytic_grad_Ridge' is not defined"
     ]
    }
   ],
   "source": [
    "# stochastic with analytic gradient Ridge\n",
    "\n",
    "optimizer = Stochastic(lr=0.1, lr_schedule=\"linear\", momentum=0.3, tuner=\"adam\", M=10, n_epochs=100)\n",
    "optimizer.set_gradient(analytic_grad_Ridge(lmbda=lmbda))\n",
    "beta_prediction = optimizer.gradient_descent(X_train, beta, y_train)\n",
    "\n",
    "print(f\"analytic solution: {beta_analytic_Ridge}\")\n",
    "print(f\"computed solution: {beta_prediction[0]}\")"
   ]
  },
  {
   "cell_type": "code",
   "execution_count": null,
   "metadata": {},
   "outputs": [
    {
     "name": "stderr",
     "output_type": "stream",
     "text": [
      "100%|██████████| 100/100 [00:00<00:00, 3334.24it/s]"
     ]
    },
    {
     "name": "stdout",
     "output_type": "stream",
     "text": [
      "analytic solution: [5. 2. 3.]\n",
      "computed solution: [-1515.62642324 -1517.6454077  -1516.46917111]\n"
     ]
    },
    {
     "name": "stderr",
     "output_type": "stream",
     "text": [
      "\n"
     ]
    }
   ],
   "source": [
    "# stochastic with autograd OLS\n",
    "\n",
    "optimizer = Stochastic(lr=0.1, lr_schedule=\"linear\", momentum=0.3, tuner=\"adam\", M=10, n_epochs=100)\n",
    "gradient = grad(cost_OLS, 1)\n",
    "optimizer.set_gradient(gradient)\n",
    "beta_prediction = optimizer.gradient_descent(X_train, beta, y_train)\n",
    "\n",
    "print(f\"analytic solution: {beta_analytic_OLS}\")\n",
    "print(f\"computed solution: {beta_prediction[0]}\")"
   ]
  },
  {
   "cell_type": "code",
   "execution_count": null,
   "metadata": {},
   "outputs": [
    {
     "name": "stderr",
     "output_type": "stream",
     "text": [
      "100%|██████████| 100/100 [00:00<00:00, 1397.58it/s]"
     ]
    },
    {
     "name": "stdout",
     "output_type": "stream",
     "text": [
      "analytic solution: [4.94269621 2.02145176 2.99827824]\n",
      "computed solution: [-1515.62642324 -1517.6454077  -1516.46917111]\n"
     ]
    },
    {
     "name": "stderr",
     "output_type": "stream",
     "text": [
      "\n"
     ]
    }
   ],
   "source": [
    "# stochastic with autograd Ridge\n",
    "\n",
    "optimizer = Stochastic(lr=0.1, lr_schedule=\"linear\", momentum=0.3, tuner=\"adam\", M=10, n_epochs=100)\n",
    "cost_ridge = cost_Ridge(lmbda=lmbda)\n",
    "gradient = grad(cost_ridge, 1)\n",
    "optimizer.set_gradient(gradient)\n",
    "beta_prediction = optimizer.gradient_descent(X_train, beta, y_train)\n",
    "\n",
    "print(f\"analytic solution: {beta_analytic_Ridge}\")\n",
    "print(f\"computed solution: {beta_prediction[0]}\")"
   ]
  }
 ],
 "metadata": {
  "kernelspec": {
   "display_name": ".neuralnet",
   "language": "python",
   "name": "python3"
  },
  "language_info": {
   "codemirror_mode": {
    "name": "ipython",
    "version": 3
   },
   "file_extension": ".py",
   "mimetype": "text/x-python",
   "name": "python",
   "nbconvert_exporter": "python",
   "pygments_lexer": "ipython3",
   "version": "3.13.0"
  }
 },
 "nbformat": 4,
 "nbformat_minor": 2
}

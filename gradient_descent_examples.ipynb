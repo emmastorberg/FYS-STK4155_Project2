{
 "cells": [
  {
   "cell_type": "code",
   "execution_count": 1,
   "metadata": {},
   "outputs": [],
   "source": [
    "from sklearn.model_selection import train_test_split\n",
    "from sklearn.preprocessing import StandardScaler\n",
    "import autograd.numpy as np\n",
    "from autograd import grad\n",
    "\n",
    "from GradientDescent import Plain, Stochastic\n",
    "from utils import analytic_grad_OLS, analytic_grad_Ridge, cost_OLS, cost_Ridge"
   ]
  },
  {
   "cell_type": "code",
   "execution_count": 2,
   "metadata": {},
   "outputs": [],
   "source": [
    "degree = 2\n",
    "n = 100\n",
    "\n",
    "x = np.linspace(0, 10, n)\n",
    "\n",
    "X = np.empty((n, degree+1))\n",
    "for d in range(degree + 1):\n",
    "    X[:,d] = x**d\n",
    "\n",
    "y = 3 * x**2 + 2 * x + 5\n",
    "\n",
    "# not sure if we even want to split??\n",
    "X_train, X_test, y_train, y_test = train_test_split(X, y)"
   ]
  },
  {
   "cell_type": "code",
   "execution_count": 3,
   "metadata": {},
   "outputs": [],
   "source": [
    "# scale if necessary?? \n",
    "# scaler = StandardScaler()\n",
    "# X_train[:,1:] = scaler.fit_transform(X_train[:,1:])\n",
    "# X_test[:,1:] = scaler.transform(X_test[:,1:])"
   ]
  },
  {
   "cell_type": "code",
   "execution_count": 4,
   "metadata": {},
   "outputs": [],
   "source": [
    "# initialize beta (must be in a list)\n",
    "beta = [np.random.randn(degree+1)]"
   ]
  },
  {
   "cell_type": "code",
   "execution_count": 5,
   "metadata": {},
   "outputs": [],
   "source": [
    "lmbda= 0.1\n",
    "\n",
    "beta_analytic_OLS = np.linalg.inv(X_train.T @ X_train) @ X_train.T @ y_train\n",
    "beta_analytic_Ridge = np.linalg.inv(X_train.T @ X_train + lmbda * np.eye(len(X[0]))) @ X_train.T @ y_train"
   ]
  },
  {
   "cell_type": "code",
   "execution_count": 14,
   "metadata": {},
   "outputs": [
    {
     "name": "stderr",
     "output_type": "stream",
     "text": [
      "100%|██████████| 10000/10000 [00:00<00:00, 95141.94it/s]"
     ]
    },
    {
     "name": "stdout",
     "output_type": "stream",
     "text": [
      "analytic solution: [5. 2. 3.]\n",
      "computed solution: [4.99814174 1.99814174 2.99814174]\n"
     ]
    },
    {
     "name": "stderr",
     "output_type": "stream",
     "text": [
      "\n"
     ]
    }
   ],
   "source": [
    "# plain with analytic gradient OLS\n",
    "\n",
    "optimizer = Plain(lr=0.01, max_iter=1000, momentum=0.3, tuner=\"adam\")\n",
    "optimizer.set_gradient(analytic_grad_OLS)\n",
    "beta_prediction = optimizer.gradient_descent(X_train, beta, y_train)\n",
    "\n",
    "print(f\"analytic solution: {beta_analytic_OLS}\")\n",
    "print(f\"computed solution: {beta_prediction[0]}\")"
   ]
  },
  {
   "cell_type": "code",
   "execution_count": 7,
   "metadata": {},
   "outputs": [
    {
     "name": "stderr",
     "output_type": "stream",
     "text": [
      "100%|██████████| 1000/1000 [00:00<00:00, 88894.39it/s]"
     ]
    },
    {
     "name": "stdout",
     "output_type": "stream",
     "text": [
      "analytic solution: [4.95097963 2.01866611 2.99847426]\n",
      "computed solution: [4.90562551 2.04006184 2.99441998]\n"
     ]
    },
    {
     "name": "stderr",
     "output_type": "stream",
     "text": [
      "\n"
     ]
    }
   ],
   "source": [
    "# plain with analytic gradient Ridge\n",
    "\n",
    "optimizer = Plain(lr=0.01, max_iter=1000, momentum=0.3, tuner=\"adam\")\n",
    "optimizer.set_gradient(analytic_grad_Ridge(lmbda=lmbda))\n",
    "beta_prediction = optimizer.gradient_descent(X_train, beta, y_train)\n",
    "\n",
    "print(f\"analytic solution: {beta_analytic_Ridge}\")\n",
    "print(f\"computed solution: {beta_prediction[0]}\")"
   ]
  },
  {
   "cell_type": "code",
   "execution_count": 8,
   "metadata": {},
   "outputs": [
    {
     "name": "stderr",
     "output_type": "stream",
     "text": [
      "  0%|          | 0/1000 [00:00<?, ?it/s]/Users/frida/Documents/MAMI/FYS-STK3155/projects/.fysstk/lib/python3.12/site-packages/autograd/tracer.py:14: UserWarning: Output seems independent of input.\n",
      "  warnings.warn(\"Output seems independent of input.\")\n",
      "100%|██████████| 1000/1000 [00:00<00:00, 22327.35it/s]"
     ]
    },
    {
     "name": "stdout",
     "output_type": "stream",
     "text": [
      "analytic solution: [5. 2. 3.]\n",
      "computed solution: [4.90562551 2.04006184 2.99441998]\n"
     ]
    },
    {
     "name": "stderr",
     "output_type": "stream",
     "text": [
      "\n"
     ]
    }
   ],
   "source": [
    "# plain with autograd OLS\n",
    "\n",
    "optimizer = Plain(lr=0.01, max_iter=1000, momentum=0.3, tuner=\"adam\")\n",
    "gradient = grad(cost_OLS, 1)\n",
    "optimizer.set_gradient(gradient)\n",
    "beta_prediction = optimizer.gradient_descent(X_train, beta, y_train)\n",
    "\n",
    "print(f\"analytic solution: {beta_analytic_OLS}\")\n",
    "print(f\"computed solution: {beta_prediction[0]}\")"
   ]
  },
  {
   "cell_type": "code",
   "execution_count": 9,
   "metadata": {},
   "outputs": [
    {
     "name": "stderr",
     "output_type": "stream",
     "text": [
      "100%|██████████| 1000/1000 [00:00<00:00, 11074.54it/s]"
     ]
    },
    {
     "name": "stdout",
     "output_type": "stream",
     "text": [
      "analytic solution: [4.95097963 2.01866611 2.99847426]\n",
      "computed solution: [4.90562551 2.04006184 2.99441998]\n"
     ]
    },
    {
     "name": "stderr",
     "output_type": "stream",
     "text": [
      "\n"
     ]
    }
   ],
   "source": [
    "# plain with autograd Ridge\n",
    "\n",
    "optimizer = Plain(lr=0.01, max_iter=1000, momentum=0.3, tuner=\"adam\")\n",
    "cost_ridge = cost_Ridge(lmbda=lmbda)\n",
    "gradient = grad(cost_ridge, 1)\n",
    "optimizer.set_gradient(gradient)\n",
    "beta_prediction = optimizer.gradient_descent(X_train, beta, y_train)\n",
    "\n",
    "print(f\"analytic solution: {beta_analytic_Ridge}\")\n",
    "print(f\"computed solution: {beta_prediction[0]}\")"
   ]
  },
  {
   "cell_type": "code",
   "execution_count": 10,
   "metadata": {},
   "outputs": [
    {
     "name": "stderr",
     "output_type": "stream",
     "text": [
      "100%|██████████| 100/100 [00:00<00:00, 13341.93it/s]"
     ]
    },
    {
     "name": "stdout",
     "output_type": "stream",
     "text": [
      "analytic solution: [5. 2. 3.]\n",
      "computed solution: [4.90562551 2.04006184 2.99441998]\n"
     ]
    },
    {
     "name": "stderr",
     "output_type": "stream",
     "text": [
      "\n"
     ]
    }
   ],
   "source": [
    "# stochastic with analytic gradient OLS\n",
    "\n",
    "optimizer = Stochastic(lr=0.1, lr_schedule=\"linear\", momentum=0.3, tuner=\"adam\", M=10, n_epochs=100)\n",
    "optimizer.set_gradient(analytic_grad_OLS)\n",
    "beta_prediction = optimizer.gradient_descent(X_train, beta, y_train)\n",
    "\n",
    "print(f\"analytic solution: {beta_analytic_OLS}\")\n",
    "print(f\"computed solution: {beta_prediction[0]}\")"
   ]
  },
  {
   "cell_type": "code",
   "execution_count": 11,
   "metadata": {},
   "outputs": [
    {
     "name": "stderr",
     "output_type": "stream",
     "text": [
      "100%|██████████| 100/100 [00:00<00:00, 13539.18it/s]"
     ]
    },
    {
     "name": "stdout",
     "output_type": "stream",
     "text": [
      "analytic solution: [4.95097963 2.01866611 2.99847426]\n",
      "computed solution: [4.90562551 2.04006184 2.99441998]\n"
     ]
    },
    {
     "name": "stderr",
     "output_type": "stream",
     "text": [
      "\n"
     ]
    }
   ],
   "source": [
    "# stochastic with analytic gradient Ridge\n",
    "\n",
    "optimizer = Stochastic(lr=0.1, lr_schedule=\"linear\", momentum=0.3, tuner=\"adam\", M=10, n_epochs=100)\n",
    "optimizer.set_gradient(analytic_grad_Ridge(lmbda=lmbda))\n",
    "beta_prediction = optimizer.gradient_descent(X_train, beta, y_train)\n",
    "\n",
    "print(f\"analytic solution: {beta_analytic_Ridge}\")\n",
    "print(f\"computed solution: {beta_prediction[0]}\")"
   ]
  },
  {
   "cell_type": "code",
   "execution_count": 12,
   "metadata": {},
   "outputs": [
    {
     "name": "stderr",
     "output_type": "stream",
     "text": [
      "100%|██████████| 100/100 [00:00<00:00, 1258.90it/s]"
     ]
    },
    {
     "name": "stdout",
     "output_type": "stream",
     "text": [
      "analytic solution: [5. 2. 3.]\n",
      "computed solution: [4.90562551 2.04006184 2.99441998]\n"
     ]
    },
    {
     "name": "stderr",
     "output_type": "stream",
     "text": [
      "\n"
     ]
    }
   ],
   "source": [
    "# stochastic with autograd OLS\n",
    "\n",
    "optimizer = Stochastic(lr=0.1, lr_schedule=\"linear\", momentum=0.3, tuner=\"adam\", M=10, n_epochs=100)\n",
    "gradient = grad(cost_OLS, 1)\n",
    "optimizer.set_gradient(gradient)\n",
    "beta_prediction = optimizer.gradient_descent(X_train, beta, y_train)\n",
    "\n",
    "print(f\"analytic solution: {beta_analytic_OLS}\")\n",
    "print(f\"computed solution: {beta_prediction[0]}\")"
   ]
  },
  {
   "cell_type": "code",
   "execution_count": 13,
   "metadata": {},
   "outputs": [
    {
     "name": "stderr",
     "output_type": "stream",
     "text": [
      "100%|██████████| 100/100 [00:00<00:00, 1929.57it/s]"
     ]
    },
    {
     "name": "stdout",
     "output_type": "stream",
     "text": [
      "analytic solution: [4.95097963 2.01866611 2.99847426]\n",
      "computed solution: [4.90562551 2.04006184 2.99441998]\n"
     ]
    },
    {
     "name": "stderr",
     "output_type": "stream",
     "text": [
      "\n"
     ]
    }
   ],
   "source": [
    "# stochastic with autograd Ridge\n",
    "\n",
    "optimizer = Stochastic(lr=0.1, lr_schedule=\"linear\", momentum=0.3, tuner=\"adam\", M=10, n_epochs=100)\n",
    "cost_ridge = cost_Ridge(lmbda=lmbda)\n",
    "gradient = grad(cost_ridge, 1)\n",
    "optimizer.set_gradient(gradient)\n",
    "beta_prediction = optimizer.gradient_descent(X_train, beta, y_train)\n",
    "\n",
    "print(f\"analytic solution: {beta_analytic_Ridge}\")\n",
    "print(f\"computed solution: {beta_prediction[0]}\")"
   ]
  }
 ],
 "metadata": {
  "kernelspec": {
   "display_name": ".fysstk",
   "language": "python",
   "name": "python3"
  },
  "language_info": {
   "codemirror_mode": {
    "name": "ipython",
    "version": 3
   },
   "file_extension": ".py",
   "mimetype": "text/x-python",
   "name": "python",
   "nbconvert_exporter": "python",
   "pygments_lexer": "ipython3",
   "version": "3.12.0"
  }
 },
 "nbformat": 4,
 "nbformat_minor": 2
}

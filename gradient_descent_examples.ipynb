{
 "cells": [
  {
   "cell_type": "code",
   "execution_count": 1,
   "metadata": {},
   "outputs": [],
   "source": [
    "from sklearn.model_selection import train_test_split\n",
    "from sklearn.preprocessing import StandardScaler\n",
    "import autograd.numpy as np\n",
    "from autograd import grad\n",
    "\n",
    "from GradientDescent import Plain, Stochastic\n",
    "import utils"
   ]
  },
  {
   "cell_type": "code",
   "execution_count": 2,
   "metadata": {},
   "outputs": [],
   "source": [
    "n = 100\n",
    "degree = 2\n",
    "x = np.linspace(0, 1, n)\n",
    "\n",
    "X = np.empty((n, degree+1))\n",
    "X[:,0] = 1\n",
    "X[:,1] = x\n",
    "X[:,2] = x**2\n",
    "\n",
    "y =  3 + 7*x + 5*x**2\n",
    "\n",
    "X_train, X_test, y_train, y_test = train_test_split(X, y)\n",
    "\n",
    "scaler = StandardScaler()\n",
    "X_train[:,1:] = scaler.fit_transform(X_train[:,1:])\n",
    "X_test[:,1:] = scaler.transform(X_test[:,1:])\n",
    "\n",
    "analytic_beta = [utils.analytic_beta_OLS(X_train, y_train)]\n",
    "\n",
    "beta = np.ones(degree+1) * 0.1"
   ]
  },
  {
   "cell_type": "code",
   "execution_count": 3,
   "metadata": {},
   "outputs": [],
   "source": [
    "lmbda= 0.1\n",
    "\n",
    "beta_analytic_OLS = np.linalg.inv(X_train.T @ X_train) @ X_train.T @ y_train\n",
    "beta_analytic_Ridge = np.linalg.inv(X_train.T @ X_train + lmbda * np.eye(len(X[0]))) @ X_train.T @ y_train"
   ]
  },
  {
   "cell_type": "code",
   "execution_count": 4,
   "metadata": {},
   "outputs": [
    {
     "name": "stderr",
     "output_type": "stream",
     "text": [
      "100%|██████████| 2000/2000 [00:00<00:00, 61292.90it/s]"
     ]
    },
    {
     "name": "stdout",
     "output_type": "stream",
     "text": [
      "analytic solution: [8.28916097 2.0324426  1.49393092]\n",
      "computed solution: [8.07925122 2.21578373 1.67727204]\n",
      "cost: [np.float64(0.20402075555865423)]\n"
     ]
    },
    {
     "name": "stderr",
     "output_type": "stream",
     "text": [
      "\n"
     ]
    }
   ],
   "source": [
    "# plain with analytic gradient OLS\n",
    "\n",
    "optimizer = Plain(lr=0.1, max_iter=2000, momentum=0.5, tuner=\"adam\")\n",
    "optimizer.set_gradient(utils.analytic_grad_OLS)\n",
    "beta_prediction = optimizer.gradient_descent(X_train, [np.copy(beta)], y_train)\n",
    "\n",
    "print(f\"analytic solution: {beta_analytic_OLS}\")\n",
    "print(f\"computed solution: {beta_prediction[0]}\")\n",
    "print(f\"cost: {utils.cost_OLS(X_test, beta_prediction, y_test)}\")"
   ]
  },
  {
   "cell_type": "code",
   "execution_count": 12,
   "metadata": {},
   "outputs": [
    {
     "name": "stderr",
     "output_type": "stream",
     "text": [
      "100%|██████████| 1000/1000 [00:00<00:00, 41352.93it/s]"
     ]
    },
    {
     "name": "stdout",
     "output_type": "stream",
     "text": [
      "analytic solution: [8.27812347 2.02144069 1.50254132]\n",
      "computed solution: [8.2836595  2.02661775 1.49855956]\n"
     ]
    },
    {
     "name": "stderr",
     "output_type": "stream",
     "text": [
      "\n"
     ]
    }
   ],
   "source": [
    "# plain with analytic gradient Ridge\n",
    "\n",
    "optimizer = Plain(lr=0.01, max_iter=1000, momentum=0.3, tuner=\"adam\")\n",
    "optimizer.set_gradient(utils.analytic_grad_Ridge(lmbda=lmbda))\n",
    "beta_prediction = optimizer.gradient_descent(X_train, [np.copy(beta)], y_train)\n",
    "\n",
    "print(f\"analytic solution: {beta_analytic_Ridge}\")\n",
    "print(f\"computed solution: {beta_prediction[0]}\")"
   ]
  },
  {
   "cell_type": "code",
   "execution_count": null,
   "metadata": {},
   "outputs": [
    {
     "name": "stderr",
     "output_type": "stream",
     "text": [
      "/Users/emmastorberg/FYS-STK4155_Project2/.venv/lib/python3.12/site-packages/autograd/tracer.py:14: UserWarning: Output seems independent of input.\n",
      "  warnings.warn(\"Output seems independent of input.\")\n"
     ]
    },
    {
     "name": "stdout",
     "output_type": "stream",
     "text": [
      "[np.float64(77.93706688384918)]\n",
      "[array([0., 0., 0.])]\n"
     ]
    },
    {
     "name": "stderr",
     "output_type": "stream",
     "text": [
      "  1%|          | 10/1000 [00:00<00:00, 4714.82it/s]"
     ]
    },
    {
     "name": "stdout",
     "output_type": "stream",
     "text": [
      "analytic solution: [8.28916097 2.0324426  1.49393092]\n",
      "computed solution: [0.1 0.1 0.1]\n",
      "cost: [np.float64(71.5191106850619)]\n"
     ]
    },
    {
     "name": "stderr",
     "output_type": "stream",
     "text": [
      "\n"
     ]
    }
   ],
   "source": [
    "# plain with autograd OLS\n",
    "\n",
    "# optimizer = Plain(lr=0.01, max_iter=1000, momentum=0.3, tuner=\"adam\")\n",
    "# gradient = grad(utils.cost_OLS, 1)\n",
    "# print(utils.cost_OLS(X_train, [np.copy(beta)], y_train))\n",
    "# print(gradient(X_train, [np.copy(beta)], y_train))\n",
    "# optimizer.set_gradient(gradient)\n",
    "# beta_prediction = optimizer.gradient_descent(X_train, [np.copy(beta)], y_train)\n",
    "\n",
    "# print(f\"analytic solution: {beta_analytic_OLS}\")\n",
    "# print(f\"computed solution: {beta_prediction[0]}\")\n",
    "# print(f\"cost: {utils.cost_OLS(X_test, beta_prediction, y_test)}\")"
   ]
  },
  {
   "cell_type": "code",
   "execution_count": null,
   "metadata": {},
   "outputs": [
    {
     "name": "stderr",
     "output_type": "stream",
     "text": [
      "  0%|          | 0/1000 [00:00<?, ?it/s]/Users/emmastorberg/FYS-STK4155_Project2/.venv/lib/python3.12/site-packages/autograd/tracer.py:14: UserWarning: Output seems independent of input.\n",
      "  warnings.warn(\"Output seems independent of input.\")\n",
      "  1%|          | 10/1000 [00:00<00:00, 5573.83it/s]"
     ]
    },
    {
     "name": "stdout",
     "output_type": "stream",
     "text": [
      "analytic solution: [8.27812347 2.02144069 1.50254132]\n",
      "computed solution: [0.1 0.1 0.1]\n"
     ]
    },
    {
     "name": "stderr",
     "output_type": "stream",
     "text": [
      "\n"
     ]
    }
   ],
   "source": [
    "# plain with autograd Ridge\n",
    "\n",
    "# optimizer = Plain(lr=0.01, max_iter=1000, momentum=0.3, tuner=\"adam\")\n",
    "# cost_ridge = utils.cost_Ridge(lmbda=lmbda)\n",
    "# gradient = grad(cost_ridge, 1)\n",
    "# optimizer.set_gradient(gradient)\n",
    "# beta_prediction = optimizer.gradient_descent(X_train, [np.copy(beta)], y_train)\n",
    "\n",
    "# print(f\"analytic solution: {beta_analytic_Ridge}\")\n",
    "# print(f\"computed solution: {beta_prediction[0]}\")"
   ]
  },
  {
   "cell_type": "code",
   "execution_count": 20,
   "metadata": {},
   "outputs": [
    {
     "name": "stderr",
     "output_type": "stream",
     "text": [
      "100%|██████████| 10/10 [00:00<00:00, 1975.84it/s]"
     ]
    },
    {
     "name": "stdout",
     "output_type": "stream",
     "text": [
      "analytic solution: [8.28916097 2.0324426  1.49393092]\n",
      "computed solution: [8.72051269 1.68204267 0.55136616]\n",
      "cost: [np.float64(2.0865344224114293)]\n"
     ]
    },
    {
     "name": "stderr",
     "output_type": "stream",
     "text": [
      "\n"
     ]
    }
   ],
   "source": [
    "# stochastic with analytic gradient OLS\n",
    "\n",
    "optimizer = Stochastic(lr=0.1, lr_schedule=\"linear\", momentum=0.5, tuner=\"adam\", M=4, n_epochs=10)\n",
    "optimizer.set_gradient(utils.analytic_grad_OLS)\n",
    "beta_prediction = optimizer.gradient_descent(X_train, [np.copy(beta)], y_train)\n",
    "\n",
    "print(f\"analytic solution: {beta_analytic_OLS}\")\n",
    "print(f\"computed solution: {beta_prediction[0]}\")\n",
    "print(f\"cost: {utils.cost_OLS(X_test, beta_prediction, y_test)}\")"
   ]
  },
  {
   "cell_type": "code",
   "execution_count": null,
   "metadata": {},
   "outputs": [
    {
     "name": "stderr",
     "output_type": "stream",
     "text": [
      "100%|██████████| 100/100 [00:00<00:00, 14056.92it/s]"
     ]
    },
    {
     "name": "stdout",
     "output_type": "stream",
     "text": [
      "analytic solution: [4.94269621 2.02145176 2.99827824]\n",
      "computed solution: [-1515.62642324 -1517.6454077  -1516.46917111]\n"
     ]
    },
    {
     "name": "stderr",
     "output_type": "stream",
     "text": [
      "\n"
     ]
    }
   ],
   "source": [
    "# stochastic with analytic gradient Ridge\n",
    "\n",
    "optimizer = Stochastic(lr=0.1, lr_schedule=\"linear\", momentum=0.3, tuner=\"adam\", M=10, n_epochs=100)\n",
    "optimizer.set_gradient(analytic_grad_Ridge(lmbda=lmbda))\n",
    "beta_prediction = optimizer.gradient_descent(X_train, beta, y_train)\n",
    "\n",
    "print(f\"analytic solution: {beta_analytic_Ridge}\")\n",
    "print(f\"computed solution: {beta_prediction[0]}\")"
   ]
  },
  {
   "cell_type": "code",
   "execution_count": null,
   "metadata": {},
   "outputs": [
    {
     "name": "stderr",
     "output_type": "stream",
     "text": [
      "100%|██████████| 100/100 [00:00<00:00, 3334.24it/s]"
     ]
    },
    {
     "name": "stdout",
     "output_type": "stream",
     "text": [
      "analytic solution: [5. 2. 3.]\n",
      "computed solution: [-1515.62642324 -1517.6454077  -1516.46917111]\n"
     ]
    },
    {
     "name": "stderr",
     "output_type": "stream",
     "text": [
      "\n"
     ]
    }
   ],
   "source": [
    "# stochastic with autograd OLS\n",
    "\n",
    "optimizer = Stochastic(lr=0.1, lr_schedule=\"linear\", momentum=0.3, tuner=\"adam\", M=10, n_epochs=100)\n",
    "gradient = grad(cost_OLS, 1)\n",
    "optimizer.set_gradient(gradient)\n",
    "beta_prediction = optimizer.gradient_descent(X_train, beta, y_train)\n",
    "\n",
    "print(f\"analytic solution: {beta_analytic_OLS}\")\n",
    "print(f\"computed solution: {beta_prediction[0]}\")"
   ]
  },
  {
   "cell_type": "code",
   "execution_count": null,
   "metadata": {},
   "outputs": [
    {
     "name": "stderr",
     "output_type": "stream",
     "text": [
      "100%|██████████| 100/100 [00:00<00:00, 1397.58it/s]"
     ]
    },
    {
     "name": "stdout",
     "output_type": "stream",
     "text": [
      "analytic solution: [4.94269621 2.02145176 2.99827824]\n",
      "computed solution: [-1515.62642324 -1517.6454077  -1516.46917111]\n"
     ]
    },
    {
     "name": "stderr",
     "output_type": "stream",
     "text": [
      "\n"
     ]
    }
   ],
   "source": [
    "# stochastic with autograd Ridge\n",
    "\n",
    "optimizer = Stochastic(lr=0.1, lr_schedule=\"linear\", momentum=0.3, tuner=\"adam\", M=10, n_epochs=100)\n",
    "cost_ridge = cost_Ridge(lmbda=lmbda)\n",
    "gradient = grad(cost_ridge, 1)\n",
    "optimizer.set_gradient(gradient)\n",
    "beta_prediction = optimizer.gradient_descent(X_train, beta, y_train)\n",
    "\n",
    "print(f\"analytic solution: {beta_analytic_Ridge}\")\n",
    "print(f\"computed solution: {beta_prediction[0]}\")"
   ]
  }
 ],
 "metadata": {
  "kernelspec": {
   "display_name": ".fysstk",
   "language": "python",
   "name": "python3"
  },
  "language_info": {
   "codemirror_mode": {
    "name": "ipython",
    "version": 3
   },
   "file_extension": ".py",
   "mimetype": "text/x-python",
   "name": "python",
   "nbconvert_exporter": "python",
   "pygments_lexer": "ipython3",
   "version": "3.12.0"
  }
 },
 "nbformat": 4,
 "nbformat_minor": 2
}
